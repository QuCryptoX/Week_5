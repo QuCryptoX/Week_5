{
 "cells": [
  {
   "cell_type": "markdown",
   "metadata": {},
   "source": [
    "<h1 style=\"color:#00A6D6;\">Week 5: Distributing keys</h1>\n",
    "\n",
    "Welcome to the new Julia sheet! As usual, we will ask you to use Julia to answer a few exercises. Most importantly, however, the purpose of these Julia sheets is for you to play around and build intuition by exploring and calculating things we do NOT ask you :-) We hope that you take advantage of using Julia this way.\n",
    "\n",
    "* <a href=\"#Enc\">Encoder</a>\n",
    "* <a href=\"#Dec\">Decoder</a>\n",
    "* <a href=\"#All\">Putting all together</a>\n",
    "\n",
    "The include command that follows will include all the functions that you have used on the previous weeks including D for trace distance and minEntropy for computing the min-entropy. Please use them as you see fit to answer the exercises."
   ]
  },
  {
   "cell_type": "code",
   "execution_count": null,
   "metadata": {
    "collapsed": false
   },
   "outputs": [],
   "source": [
    "include(\"source/main.jl\")"
   ]
  },
  {
   "cell_type": "markdown",
   "metadata": {},
   "source": [
    "This week we will implement a toy information reconciliation from scratch. It will be very similar to the scheme described in the videos except that we will use different codes. Let us first recall the communication scenario of a one-way information reconciliation protocol: \n",
    "\n",
    "<img src=\"source/oneway.png\">\n",
    "\n",
    "Alice holds a string $X_A$, Bob holds a string $X_B=X_A+S$ and we call $S$ the error vector. In order to help Bob recover $X_A$, Alice will encode her string in $C_A=\\textrm{Enc}(X_A)$ and send $C_A$ to Bob via a public authentic channel. Bob will input $C_A$ and $X_B$ into a decoder that will produce an estimate of Alice's string $\\hat X_A=\\textrm{Dec}(C_A,X_B)$."
   ]
  },
  {
   "cell_type": "markdown",
   "metadata": {},
   "source": [
    "<a id=Enc></a>\n",
    "<h2 style=\"color:#00A6D6;\">Encoder</h2>\n",
    "\n",
    "Let us first take a look at the encoder function. Given some parity check matrix $H$, the encoder function that we will use will encode $X_A$ into the syndrome of $X_A.$ That is: $C_A=H\\cdot X_A^T$. \n",
    "\n",
    "So, let us write the encoding function which is simply a small function for computing syndromes:"
   ]
  },
  {
   "cell_type": "code",
   "execution_count": null,
   "metadata": {
    "collapsed": false
   },
   "outputs": [],
   "source": [
    "function getSyndrome(H,v)\n",
    "    # Input:\n",
    "    # ------\n",
    "    # H - k x n parity check matrix\n",
    "    # v - length n vector\n",
    "    #\n",
    "    # Output:\n",
    "    # -------\n",
    "    # s - syndrome of v with parity check matrix H\n",
    "    return # your code\n",
    "end"
   ]
  },
  {
   "cell_type": "markdown",
   "metadata": {},
   "source": [
    "Note: The function getSyndrome(H,v) will be called later by other functions. In order to make it compatible with these other functions, the output should be a **row** vector."
   ]
  },
  {
   "cell_type": "markdown",
   "metadata": {},
   "source": [
    "<h3 style=\"color:#00A6D6;\"> edX Exercise 1</h3>\n",
    "\n",
    "Consider the parity check matrices:"
   ]
  },
  {
   "cell_type": "code",
   "execution_count": null,
   "metadata": {
    "collapsed": false
   },
   "outputs": [],
   "source": [
    "H_Golay = [1 0 0 1 1 1 0 0 0 1 1 1 1 0 0 0 0 0 0 0 0 0 0;\n",
    " 1 0 1 0 1 1 0 1 1 0 0 1 0 1 0 0 0 0 0 0 0 0 0;\n",
    " 1 0 1 1 0 1 1 0 1 0 1 0 0 0 1 0 0 0 0 0 0 0 0;\n",
    " 1 0 1 1 1 0 1 1 0 1 0 0 0 0 0 1 0 0 0 0 0 0 0;\n",
    " 1 1 0 0 1 1 1 0 1 1 0 0 0 0 0 0 1 0 0 0 0 0 0;\n",
    " 1 1 0 1 0 1 1 1 0 0 0 1 0 0 0 0 0 1 0 0 0 0 0;\n",
    " 1 1 0 1 1 0 0 1 1 0 1 0 0 0 0 0 0 0 1 0 0 0 0;\n",
    " 1 1 1 0 0 1 0 1 0 1 1 0 0 0 0 0 0 0 0 1 0 0 0;\n",
    " 1 1 1 0 1 0 1 0 0 0 1 1 0 0 0 0 0 0 0 0 1 0 0;\n",
    " 1 1 1 1 0 0 0 0 1 1 0 1 0 0 0 0 0 0 0 0 0 1 0;\n",
    " 0 1 1 1 1 1 1 1 1 1 1 1 0 0 0 0 0 0 0 0 0 0 1];\n",
    "\n",
    "H_Hamming = [1 0 1 0 1 0 1;\n",
    "             0 1 1 0 0 1 1;\n",
    "             0 0 0 1 1 1 1];"
   ]
  },
  {
   "cell_type": "markdown",
   "metadata": {},
   "source": [
    "Let us investigate the codes induced by these matrices:\n",
    "\n",
    "* How many different syndromes has the Hamming code?\n",
    "* How many different syndromes has the Golay code?\n",
    "\n",
    "Recall that the weight of a vector is the number of non-zero entries in the vector. Let $V_n^w$ be the set of binary vectors of length $n$ and weight $w$:\n",
    "\n",
    "* What is the number of elements in $V_7^0$,$V_7^1$,$V_7^2$ and $V_7^3$?\n",
    "* What is the number of elements in $V_{23}^0$,$V_{23}^1$,$V_{23}^2$ and $V_{23}^3$?\n",
    "\n",
    "Now, compute the encodings of the following strings:"
   ]
  },
  {
   "cell_type": "code",
   "execution_count": null,
   "metadata": {
    "collapsed": false
   },
   "outputs": [],
   "source": [
    "v0 = [1 0 1 1 0 1 1]; # with the Hamming parity check matrix\n",
    "v1 = [1 1 1 1 1 1 1 1 0 1 1 1 1 1 1 1 1 1 1 1 1 0 0]; # with the Golay parity check matrix"
   ]
  },
  {
   "cell_type": "markdown",
   "metadata": {},
   "source": [
    "<a id=Dec></a>\n",
    "<h2 style=\"color:#00A6D6;\">Decoder</h2>\n"
   ]
  },
  {
   "cell_type": "markdown",
   "metadata": {},
   "source": [
    "Now, let us take a look at the decoder. The protocol that we described in the lectures (known as syndrome decoding) works as follows: \n",
    "* Bob computes the syndrome of his string $C_B=H\\cdot X_B^T$\n",
    "* The sum of $C_A$ and $C_B$ is fed into an estimator module that will output an estimate of the error string $\\hat S$.\n",
    "* The decoder outputs $X_B+\\hat S$"
   ]
  },
  {
   "cell_type": "markdown",
   "metadata": {},
   "source": [
    "<img src=\"source/decoder.png\">"
   ]
  },
  {
   "cell_type": "markdown",
   "metadata": {},
   "source": [
    "We gave two parity check matrices in Exercise 1: $H_{\\textrm{Hamming}}$ and $H_{\\textrm{Golay}}$. They induce a unique encoder. However, there are many possible decoders that we could associate with them. If we look at the estimator module, it takes a syndrome and outputs an error estimate. We can choose the map between syndrome and outputs in many different ways. \n",
    "\n",
    "We are going to implement the following estimator map for the Hamming code:\n",
    "* The zero syndrome gets mapped to the zero error string\n",
    "* For each vector $v\\in V^1_7$ compute the syndrome $s=H_{\\textrm{Hamming}}\\cdot v$ and assign the syndrome $s$ the error string $v$.\n",
    "\n",
    "We have implemented this functionality as a Julia dictionary."
   ]
  },
  {
   "cell_type": "code",
   "execution_count": null,
   "metadata": {
    "collapsed": false
   },
   "outputs": [],
   "source": [
    "dict_Hamming = Dict()\n",
    "z = 0*eVecInt(7,1)'\n",
    "s = 0*eVecInt(3,1)'\n",
    "dict_Hamming[s] = z\n",
    "for i=1:7\n",
    "    vi = eVecInt(7,i)'\n",
    "    s = getSyndrome(H_Hamming,vi)\n",
    "    dict_Hamming[s] = vi\n",
    "end"
   ]
  },
  {
   "cell_type": "markdown",
   "metadata": {},
   "source": [
    "Now, if we want to know the output of the estimator for some concrete syndrome we would use the dictionary as follows:"
   ]
  },
  {
   "cell_type": "code",
   "execution_count": null,
   "metadata": {
    "collapsed": false
   },
   "outputs": [],
   "source": [
    "s = [0 1 1]\n",
    "dict_Hamming[s]"
   ]
  },
  {
   "cell_type": "markdown",
   "metadata": {},
   "source": [
    "Now you can implement the following estimator map for the Golay code:\n",
    "\n",
    "* The zero syndrome gets mapped to the zero error string\n",
    "* For each vector $v\\in V^1_{23}$ compute the syndrome $s=H_{\\textrm{Golay}}\\cdot v$ and assign the syndrome $s$ the error string $v$.\n",
    "* For each vector $v\\in V^2_{23}$ compute the syndrome $s=H_{\\textrm{Golay}}\\cdot v$ and assign the syndrome $s$ the error string $v$.\n",
    "* For each vector $v\\in V^3_{23}$ compute the syndrome $s=H_{\\textrm{Golay}}\\cdot v$ and assign the syndrome $s$ the error string $v$."
   ]
  },
  {
   "cell_type": "code",
   "execution_count": null,
   "metadata": {
    "collapsed": false
   },
   "outputs": [],
   "source": [
    "dict_Golay = Dict()"
   ]
  },
  {
   "cell_type": "markdown",
   "metadata": {},
   "source": [
    "<h3 style=\"color:#00A6D6;\"> edX Exercise 2</h3>\n",
    "\n",
    "Compute the output of the estimator module of the Golay code with input error syndrome:"
   ]
  },
  {
   "cell_type": "code",
   "execution_count": null,
   "metadata": {
    "collapsed": false
   },
   "outputs": [],
   "source": [
    "s0 = [1 1 1 0 0 0 0 1 1 1 0]\n",
    "s1 = [1 0 1 0 0 1 1 1 0 1 0]"
   ]
  },
  {
   "cell_type": "markdown",
   "metadata": {},
   "source": [
    "<h3 style=\"color:#00A6D6;\"> edX Exercise 3</h3>\n",
    "\n",
    "Now we can complete the decoder. Compute the output of the decoder for the Golay code with the following inputs."
   ]
  },
  {
   "cell_type": "code",
   "execution_count": null,
   "metadata": {
    "collapsed": false
   },
   "outputs": [],
   "source": [
    "# 1) \n",
    "\n",
    "Ca1 = [0 1 0 1 0 0 0 1 1 0 1]\n",
    "Xb1 = [0 1 1 0 1 1 0 0 1 0 1 0 1 0 1 0 0 0 0 0 0 0 0]\n",
    "\n",
    "# 2)\n",
    "\n",
    "Ca2 = [0 0 1 0 1 1 0 1 1 1 1]\n",
    "Xb2 = [0 1 0 1 1 1 0 1 1 0 0 0 1 1 1 0 0 0 1 0 1 1 0]"
   ]
  },
  {
   "cell_type": "code",
   "execution_count": null,
   "metadata": {
    "collapsed": true
   },
   "outputs": [],
   "source": [
    "function decoder(Ca,Xb,estimatorDict,H)\n",
    "    # Here goes your code\n",
    "end"
   ]
  },
  {
   "cell_type": "markdown",
   "metadata": {},
   "source": [
    "<a id=All></a>\n",
    "<h2 style=\"color:#00A6D6;\">Putting all together</h2>\n",
    "\n",
    "Finally, we have all the ingredients for running together the encoder and the decoder. \n",
    "<h3 style=\"color:#00A6D6;\"> edX Exercise 4</h3>\n",
    "\n",
    "Given the following $X_A$ and $X_B$, what are the values of all the intermediate strings and what is the final decoder output?"
   ]
  },
  {
   "cell_type": "code",
   "execution_count": null,
   "metadata": {
    "collapsed": false
   },
   "outputs": [],
   "source": [
    "Xa3 = [0 1 1 0 1 0 0 1 1 0 1 0 1 0 0 1 0 0 1 0 1 1 0]\n",
    "Xb3 = [0 1 1 0 1 0 0 1 1 0 0 1 1 0 0 1 0 0 1 0 1 1 0]"
   ]
  }
 ],
 "metadata": {
  "anaconda-cloud": {},
  "kernelspec": {
   "display_name": "Julia 0.5.0",
   "language": "julia",
   "name": "julia-0.5"
  },
  "language_info": {
   "file_extension": ".jl",
   "mimetype": "application/julia",
   "name": "julia",
   "version": "0.5.0"
  }
 },
 "nbformat": 4,
 "nbformat_minor": 0
}
